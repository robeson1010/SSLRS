{
 "cells": [
  {
   "cell_type": "code",
   "execution_count": null,
   "metadata": {},
   "outputs": [],
   "source": [
    "#hide\n",
    "from SSLRS.core import *"
   ]
  },
  {
   "cell_type": "markdown",
   "metadata": {},
   "source": [
    "# Project name here\n",
    "\n",
    "> Summary description here."
   ]
  },
  {
   "cell_type": "markdown",
   "metadata": {},
   "source": [
    "This file will become your README and also the index of your documentation."
   ]
  },
  {
   "cell_type": "markdown",
   "metadata": {},
   "source": [
    "## Install"
   ]
  },
  {
   "cell_type": "markdown",
   "metadata": {},
   "source": [
    "`pip install your_project_name`"
   ]
  },
  {
   "cell_type": "markdown",
   "metadata": {},
   "source": [
    "## How to use"
   ]
  },
  {
   "cell_type": "markdown",
   "metadata": {},
   "source": [
    "Fill me in please! Don't forget code examples:"
   ]
  },
  {
   "cell_type": "code",
   "execution_count": null,
   "metadata": {},
   "outputs": [],
   "source": [
    "%reload_ext autoreload\n",
    "%autoreload 2\n",
    "%matplotlib inline"
   ]
  },
  {
   "cell_type": "code",
   "execution_count": null,
   "metadata": {},
   "outputs": [],
   "source": [
    "from fastai.vision.all import get_files\n",
    "import pandas as pd\n",
    "import json\n",
    "import os\n",
    "import matplotlib.pyplot as plt\n",
    "import tqdm\n",
    "import numpy as np\n",
    "import skimage.io as skio"
   ]
  },
  {
   "cell_type": "code",
   "execution_count": null,
   "metadata": {},
   "outputs": [],
   "source": [
    "with open('./data/BigEarthNet-S2_19-classes_models/label_indices.json', 'rb') as f:\n",
    "    label_indices = json.load(f)\n",
    "label_conversion = label_indices['label_conversion']\n",
    "BigEarthNet_19_label_idx = {v: k for k, v in label_indices['BigEarthNet-19_labels'].items()}\n"
   ]
  },
  {
   "cell_type": "code",
   "execution_count": null,
   "metadata": {},
   "outputs": [],
   "source": [
    "def get_label(patch_json):\n",
    "    original_labels = patch_json['labels']\n",
    "    original_labels_multi_hot = np.zeros(\n",
    "    len(label_indices['original_labels'].keys()), dtype=int)\n",
    "    BigEarthNet_19_labels_multi_hot = np.zeros(len(label_conversion),dtype=int)\n",
    "    for label in original_labels:\n",
    "        original_labels_multi_hot[label_indices['original_labels'][label]] = 1\n",
    "\n",
    "    for i in range(len(label_conversion)):\n",
    "        BigEarthNet_19_labels_multi_hot[i] = (\n",
    "                np.sum(original_labels_multi_hot[label_conversion[i]]) > 0\n",
    "            ).astype(int)\n",
    "\n",
    "    BigEarthNet_19_labels = []\n",
    "    for i in np.where(BigEarthNet_19_labels_multi_hot == 1)[0]:\n",
    "#         BigEarthNet_19_labels.append(BigEarthNet_19_label_idx[i])\n",
    "        BigEarthNet_19_labels.append(i)\n",
    "    return BigEarthNet_19_labels\n"
   ]
  },
  {
   "cell_type": "code",
   "execution_count": null,
   "metadata": {},
   "outputs": [
    {
     "data": {
      "text/plain": [
       "{0: 'Urban fabric',\n",
       " 1: 'Industrial or commercial units',\n",
       " 2: 'Arable land',\n",
       " 3: 'Permanent crops',\n",
       " 4: 'Pastures',\n",
       " 5: 'Complex cultivation patterns',\n",
       " 6: 'Land principally occupied by agriculture, with significant areas of natural vegetation',\n",
       " 7: 'Agro-forestry areas',\n",
       " 8: 'Broad-leaved forest',\n",
       " 9: 'Coniferous forest',\n",
       " 10: 'Mixed forest',\n",
       " 11: 'Natural grassland and sparsely vegetated areas',\n",
       " 12: 'Moors, heathland and sclerophyllous vegetation',\n",
       " 13: 'Transitional woodland, shrub',\n",
       " 14: 'Beaches, dunes, sands',\n",
       " 15: 'Inland wetlands',\n",
       " 16: 'Coastal wetlands',\n",
       " 17: 'Inland waters',\n",
       " 18: 'Marine waters'}"
      ]
     },
     "execution_count": null,
     "metadata": {},
     "output_type": "execute_result"
    }
   ],
   "source": [
    "BigEarthNet_19_label_idx"
   ]
  },
  {
   "cell_type": "code",
   "execution_count": null,
   "metadata": {},
   "outputs": [],
   "source": [
    "pp='./data/BigEarthNet-v1.0/'"
   ]
  },
  {
   "cell_type": "code",
   "execution_count": null,
   "metadata": {},
   "outputs": [],
   "source": [
    "jsons=get_files(pp,extensions='.json')"
   ]
  },
  {
   "cell_type": "code",
   "execution_count": null,
   "metadata": {},
   "outputs": [],
   "source": [
    "from fastcore.parallel import parallel\n",
    "from skimage.transform import rescale"
   ]
  },
  {
   "cell_type": "code",
   "execution_count": null,
   "metadata": {},
   "outputs": [
    {
     "name": "stderr",
     "output_type": "stream",
     "text": [
      "100%|██████████| 590326/590326 [01:09<00:00, 8435.65it/s]\n"
     ]
    }
   ],
   "source": [
    "files=[]\n",
    "labels=[]\n",
    "# parallel(pp,jsons[:1000],progress=True)\n",
    "for js in tqdm.tqdm(jsons):\n",
    "    with open(js, 'rb') as f:\n",
    "        patch_json = json.load(f)\n",
    "    newlables=get_label(patch_json)\n",
    "    if len(newlables)==1:\n",
    "#         print(js)\n",
    "        files.append(js)\n",
    "        labels.append(newlables)"
   ]
  },
  {
   "cell_type": "code",
   "execution_count": null,
   "metadata": {},
   "outputs": [],
   "source": [
    "bands=['B02','B03', 'B04', 'B05','B06', 'B07', 'B11', 'B08','B8A', 'B12']"
   ]
  },
  {
   "cell_type": "code",
   "execution_count": null,
   "metadata": {},
   "outputs": [],
   "source": [
    "def ppdata(js):\n",
    "    temp=np.zeros((10,120,120),dtype='uint16')\n",
    "    for index,band in zip(range(len(bands)),bands):\n",
    "        temp2=skio.imread(os.path.join(js.parent,js.parent.name+'_'+band+'.tif'))\n",
    "        ss=float(120/temp2.shape[0])\n",
    "        temp[index]=rescale(temp2,ss,preserve_range=True).astype('uint16')\n",
    "    skio.imsave(os.path.join(js.parent,js.parent.name+'.tif'),temp)\n",
    "        \n",
    "    \n",
    "        \n",
    "    "
   ]
  },
  {
   "cell_type": "code",
   "execution_count": null,
   "metadata": {},
   "outputs": [],
   "source": [
    "import warnings\n",
    "warnings.filterwarnings(\"ignore\")"
   ]
  },
  {
   "cell_type": "code",
   "execution_count": null,
   "metadata": {},
   "outputs": [
    {
     "data": {
      "text/html": [],
      "text/plain": [
       "<IPython.core.display.HTML object>"
      ]
     },
     "metadata": {},
     "output_type": "display_data"
    },
    {
     "data": {
      "text/plain": [
       "(#590326) [None,None,None,None,None,None,None,None,None,None...]"
      ]
     },
     "execution_count": null,
     "metadata": {},
     "output_type": "execute_result"
    }
   ],
   "source": [
    "parallel(ppdata,jsons,n_workers=32,progress=True)"
   ]
  },
  {
   "cell_type": "code",
   "execution_count": null,
   "metadata": {},
   "outputs": [
    {
     "data": {
      "text/plain": [
       "Path('data/BigEarthNet-v1.0/S2A_MSIL2A_20171101T94132_50_45/S2A_MSIL2A_20171101T94132_50_45_labels_metadata.json')"
      ]
     },
     "execution_count": null,
     "metadata": {},
     "output_type": "execute_result"
    }
   ],
   "source": [
    "jsons[-1]"
   ]
  },
  {
   "cell_type": "code",
   "execution_count": null,
   "metadata": {},
   "outputs": [],
   "source": [
    "bands=[]\n",
    "for tif in tifs:\n",
    "    temp=skio.imread(tif)\n",
    "    if temp.shape[0]==60:\n",
    "        break\n",
    "#         bands.append(tif.name.split('.')[-2].split('_')[-1])"
   ]
  },
  {
   "cell_type": "code",
   "execution_count": null,
   "metadata": {},
   "outputs": [],
   "source": [
    "temp=np.zeros((60,60))"
   ]
  },
  {
   "cell_type": "code",
   "execution_count": null,
   "metadata": {},
   "outputs": [],
   "source": []
  },
  {
   "cell_type": "code",
   "execution_count": null,
   "metadata": {},
   "outputs": [
    {
     "data": {
      "text/plain": [
       "<matplotlib.image.AxesImage at 0x7f88d8340690>"
      ]
     },
     "execution_count": null,
     "metadata": {},
     "output_type": "execute_result"
    },
    {
     "data": {
      "image/png": "[encoded data removed]",
      "text/plain": [
       "<Figure size 432x288 with 1 Axes>"
      ]
     },
     "metadata": {
      "needs_background": "light"
     },
     "output_type": "display_data"
    }
   ],
   "source": [
    "plt.imshow(rescale(temp,1))"
   ]
  },
  {
   "cell_type": "code",
   "execution_count": null,
   "metadata": {},
   "outputs": [
    {
     "data": {
      "text/plain": [
       "1.5259021896762436e-05"
      ]
     },
     "execution_count": null,
     "metadata": {},
     "output_type": "execute_result"
    }
   ],
   "source": [
    "rescale(temp,1).min()"
   ]
  },
  {
   "cell_type": "code",
   "execution_count": null,
   "metadata": {},
   "outputs": [],
   "source": [
    "for ff in tqdm.tqdm(os.listdir('./data/BigEarthNet-v1.0')):\n",
    "    cmd='mv '+'./data/BigEarthNet-v1.0/'+ff+'/*_B??.tif ./data/Bigrawdata/'\n",
    "    os.system(cmd)"
   ]
  },
  {
   "cell_type": "code",
   "execution_count": null,
   "metadata": {},
   "outputs": [],
   "source": [
    "from fastcore.parallel import parallel"
   ]
  },
  {
   "cell_type": "code",
   "execution_count": null,
   "metadata": {},
   "outputs": [],
   "source": [
    "def runcmd(ff):\n",
    "    cmd='mv '+'./data/BigEarthNet-v1.0/'+ff+'/*_B??.tif ./data/Bigrawdata/'\n",
    "    os.system(cmd)"
   ]
  },
  {
   "cell_type": "code",
   "execution_count": null,
   "metadata": {},
   "outputs": [
    {
     "data": {
      "text/html": [],
      "text/plain": [
       "<IPython.core.display.HTML object>"
      ]
     },
     "metadata": {},
     "output_type": "display_data"
    },
    {
     "data": {
      "text/plain": [
       "(#590326) [None,None,None,None,None,None,None,None,None,None...]"
      ]
     },
     "execution_count": null,
     "metadata": {},
     "output_type": "execute_result"
    }
   ],
   "source": [
    "parallel(runcmd,os.listdir('./data/BigEarthNet-v1.0'),progress=True)"
   ]
  },
  {
   "cell_type": "code",
   "execution_count": null,
   "metadata": {},
   "outputs": [
    {
     "name": "stderr",
     "output_type": "stream",
     "text": [
      "100%|██████████| 590326/590326 [00:36<00:00, 16182.58it/s] \n"
     ]
    }
   ],
   "source": [
    "ll=[]\n",
    "for ff in tqdm.tqdm(os.listdir('./data/BigEarthNet-v1.0')):\n",
    "    file='./data/BigEarthNet-v1.0/'+ff+'/'+ff+'.tif'\n",
    "    if os.path.exists(file):\n",
    "        ll.append(file)"
   ]
  },
  {
   "cell_type": "code",
   "execution_count": null,
   "metadata": {},
   "outputs": [],
   "source": [
    "df=pd.read_csv('./data/file.csv')"
   ]
  },
  {
   "cell_type": "code",
   "execution_count": null,
   "metadata": {},
   "outputs": [],
   "source": [
    "newdf=pd.DataFrame({'fname':ll})"
   ]
  },
  {
   "cell_type": "code",
   "execution_count": null,
   "metadata": {},
   "outputs": [],
   "source": [
    "newdf['Isval']=0"
   ]
  },
  {
   "cell_type": "code",
   "execution_count": null,
   "metadata": {},
   "outputs": [
    {
     "data": {
      "text/plain": [
       "Index(['fname', 'Isval', 'label'], dtype='object')"
      ]
     },
     "execution_count": null,
     "metadata": {},
     "output_type": "execute_result"
    }
   ],
   "source": [
    "newdf['label']=0"
   ]
  },
  {
   "cell_type": "code",
   "execution_count": null,
   "metadata": {},
   "outputs": [],
   "source": []
  }
 ],
 "metadata": {
  "kernelspec": {
   "display_name": "Python [conda env:py3] *",
   "language": "python",
   "name": "conda-env-py3-py"
  }
 },
 "nbformat": 4,
 "nbformat_minor": 4
}
