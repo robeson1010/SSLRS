{
 "cells": [
  {
   "cell_type": "code",
   "execution_count": null,
   "metadata": {},
   "outputs": [],
   "source": [
    "# default_exp core"
   ]
  },
  {
   "cell_type": "markdown",
   "metadata": {},
   "source": [
    "# module name here\n",
    "\n",
    "> API details."
   ]
  },
  {
   "cell_type": "code",
   "execution_count": null,
   "metadata": {},
   "outputs": [],
   "source": [
    "#hide\n",
    "from nbdev.showdoc import *"
   ]
  },
  {
   "cell_type": "code",
   "execution_count": null,
   "metadata": {},
   "outputs": [],
   "source": [
    "#export\n",
    "import pandas as pd\n",
    "from tqdm import tqdm_notebook as tqdm\n",
    "import json\n",
    "import numpy as np\n",
    "from fastai.vision.all import *\n",
    "import albumentations as A\n",
    "import skimage.io as skio\n",
    "import warnings\n",
    "warnings.filterwarnings(\"ignore\")"
   ]
  },
  {
   "cell_type": "code",
   "execution_count": null,
   "metadata": {},
   "outputs": [],
   "source": [
    "with open('./data/BigEarthNet-S2_19-classes_models/label_indices.json', 'rb') as f:\n",
    "    label_indices = json.load(f)\n",
    "label_conversion = label_indices['label_conversion']\n",
    "BigEarthNet_19_label_idx = {v: k for k, v in label_indices['BigEarthNet-19_labels'].items()}\n",
    "def get_label(patch_json):\n",
    "    original_labels = patch_json['labels']\n",
    "    original_labels_multi_hot = np.zeros(\n",
    "    len(label_indices['original_labels'].keys()), dtype=int)\n",
    "    BigEarthNet_19_labels_multi_hot = np.zeros(len(label_conversion),dtype=int)\n",
    "    for label in original_labels:\n",
    "        original_labels_multi_hot[label_indices['original_labels'][label]] = 1\n",
    "\n",
    "    for i in range(len(label_conversion)):\n",
    "        BigEarthNet_19_labels_multi_hot[i] = (\n",
    "                np.sum(original_labels_multi_hot[label_conversion[i]]) > 0\n",
    "            ).astype(int)\n",
    "\n",
    "    BigEarthNet_19_labels = ''\n",
    "    for i in np.where(BigEarthNet_19_labels_multi_hot == 1)[0]:\n",
    "        BigEarthNet_19_labels+=str(i)+' '\n",
    "    return BigEarthNet_19_labels[:-1]\n"
   ]
  },
  {
   "cell_type": "code",
   "execution_count": null,
   "metadata": {},
   "outputs": [],
   "source": [
    "# # create data\n",
    "# df=pd.read_csv('./data/BigEarthNet-S2_19-classes_models/splits/train.csv',header=None)\n",
    "# df['Isval']=0\n",
    "# df2=pd.read_csv('./data/BigEarthNet-S2_19-classes_models/splits/val.csv',header=None)\n",
    "# df2['Isval']=1\n",
    "# df=pd.concat([df,df2])\n",
    "# df=df.rename(columns={0: \"fname\"})\n",
    "# df['label']=''\n",
    "# for i in tqdm(range(len(df))):\n",
    "#     with open('./data/BigEarthNet-v1.0/'+df.iat[i,0]+'/'+df.iat[i,0]+'_labels_metadata.json', 'rb') as f:\n",
    "#         patch_json = json.load(f)\n",
    "#     df.iat[i,2]=get_label(patch_json)  \n",
    "#     df.iat[i,0]='./data/BigEarthNet-v1.0/'+df.iat[i,0]+'/'+df.iat[i,0]+'.tif'  "
   ]
  },
  {
   "cell_type": "code",
   "execution_count": null,
   "metadata": {},
   "outputs": [],
   "source": [
    "#export\n",
    "def open_tif(fn, cls=torch.Tensor):\n",
    "    im = skio.imread(str(fn))/10000\n",
    "    im = im.transpose(1,2,0).astype('float32')\n",
    "    return cls(im)\n",
    "class MSTensorImage(TensorImage):\n",
    "    \n",
    "    @classmethod\n",
    "    def create(cls, data:(Path,str,ndarray), chnls=None):\n",
    "        \n",
    "        if isinstance(data, Path) or isinstance(data, str):\n",
    "            if str(data).endswith('tif'): im = open_tif(fn=data,cls=torch.Tensor)\n",
    "\n",
    "        elif isinstance(data, ndarray): \n",
    "            im = torch.from_numpy(data)\n",
    "        else:\n",
    "            im = data\n",
    "        \n",
    "        return cls(im)"
   ]
  },
  {
   "cell_type": "code",
   "execution_count": null,
   "metadata": {},
   "outputs": [],
   "source": [
    "df=pd.read_csv('./data/file.csv')"
   ]
  },
  {
   "cell_type": "code",
   "execution_count": null,
   "metadata": {},
   "outputs": [
    {
     "data": {
      "text/html": [
       "<div>\n",
       "<style scoped>\n",
       "    .dataframe tbody tr th:only-of-type {\n",
       "        vertical-align: middle;\n",
       "    }\n",
       "\n",
       "    .dataframe tbody tr th {\n",
       "        vertical-align: top;\n",
       "    }\n",
       "\n",
       "    .dataframe thead th {\n",
       "        text-align: right;\n",
       "    }\n",
       "</style>\n",
       "<table border=\"1\" class=\"dataframe\">\n",
       "  <thead>\n",
       "    <tr style=\"text-align: right;\">\n",
       "      <th></th>\n",
       "      <th>fname</th>\n",
       "      <th>Isval</th>\n",
       "      <th>label</th>\n",
       "    </tr>\n",
       "  </thead>\n",
       "  <tbody>\n",
       "    <tr>\n",
       "      <th>0</th>\n",
       "      <td>./data/BigEarthNet-v1.0/S2A_MSIL2A_20170717T113321_28_87/S2A_MSIL2A_20170717T113321_28_87.tif</td>\n",
       "      <td>0</td>\n",
       "      <td>4</td>\n",
       "    </tr>\n",
       "    <tr>\n",
       "      <th>1</th>\n",
       "      <td>./data/BigEarthNet-v1.0/S2A_MSIL2A_20170717T113321_28_90/S2A_MSIL2A_20170717T113321_28_90.tif</td>\n",
       "      <td>0</td>\n",
       "      <td>4</td>\n",
       "    </tr>\n",
       "    <tr>\n",
       "      <th>2</th>\n",
       "      <td>./data/BigEarthNet-v1.0/S2A_MSIL2A_20170717T113321_29_83/S2A_MSIL2A_20170717T113321_29_83.tif</td>\n",
       "      <td>0</td>\n",
       "      <td>4</td>\n",
       "    </tr>\n",
       "    <tr>\n",
       "      <th>3</th>\n",
       "      <td>./data/BigEarthNet-v1.0/S2A_MSIL2A_20170717T113321_29_84/S2A_MSIL2A_20170717T113321_29_84.tif</td>\n",
       "      <td>0</td>\n",
       "      <td>4</td>\n",
       "    </tr>\n",
       "    <tr>\n",
       "      <th>4</th>\n",
       "      <td>./data/BigEarthNet-v1.0/S2A_MSIL2A_20170717T113321_29_85/S2A_MSIL2A_20170717T113321_29_85.tif</td>\n",
       "      <td>0</td>\n",
       "      <td>4</td>\n",
       "    </tr>\n",
       "  </tbody>\n",
       "</table>\n",
       "</div>"
      ],
      "text/plain": [
       "                                                                                           fname  \\\n",
       "0  ./data/BigEarthNet-v1.0/S2A_MSIL2A_20170717T113321_28_87/S2A_MSIL2A_20170717T113321_28_87.tif   \n",
       "1  ./data/BigEarthNet-v1.0/S2A_MSIL2A_20170717T113321_28_90/S2A_MSIL2A_20170717T113321_28_90.tif   \n",
       "2  ./data/BigEarthNet-v1.0/S2A_MSIL2A_20170717T113321_29_83/S2A_MSIL2A_20170717T113321_29_83.tif   \n",
       "3  ./data/BigEarthNet-v1.0/S2A_MSIL2A_20170717T113321_29_84/S2A_MSIL2A_20170717T113321_29_84.tif   \n",
       "4  ./data/BigEarthNet-v1.0/S2A_MSIL2A_20170717T113321_29_85/S2A_MSIL2A_20170717T113321_29_85.tif   \n",
       "\n",
       "   Isval label  \n",
       "0      0     4  \n",
       "1      0     4  \n",
       "2      0     4  \n",
       "3      0     4  \n",
       "4      0     4  "
      ]
     },
     "execution_count": null,
     "metadata": {},
     "output_type": "execute_result"
    }
   ],
   "source": [
    "df.head()"
   ]
  },
  {
   "cell_type": "code",
   "execution_count": null,
   "metadata": {},
   "outputs": [],
   "source": [
    "db=DataBlock(blocks=(TransformBlock(type_tfms=partial(MSTensorImage.create)), MultiCategoryBlock),\n",
    "                   splitter=ColSplitter('Isval'),\n",
    "                   get_x=ColReader('fname'),\n",
    "                   get_y=ColReader('label', label_delim=' '))\n",
    "#                    batch_tfms=aug_transforms(size=224))\n",
    "# db.summary(source=df)"
   ]
  },
  {
   "cell_type": "code",
   "execution_count": null,
   "metadata": {},
   "outputs": [],
   "source": [
    "ds = db.datasets(source=df)"
   ]
  },
  {
   "cell_type": "code",
   "execution_count": null,
   "metadata": {},
   "outputs": [],
   "source": [
    "#export\n",
    "BAND_STATS = {\n",
    "            'S2':{\n",
    "                'mean': {\n",
    "                    'B01': 340.76769064,\n",
    "                    'B02': 429.9430203,\n",
    "                    'B03': 614.21682446,\n",
    "                    'B04': 590.23569706,\n",
    "                    'B05': 950.68368468,\n",
    "                    'B06': 1792.46290469,\n",
    "                    'B07': 2075.46795189,\n",
    "                    'B08': 2218.94553375,\n",
    "                    'B8A': 2266.46036911,\n",
    "                    'B09': 2246.0605464,\n",
    "                    'B11': 1594.42694882,\n",
    "                    'B12': 1009.32729131\n",
    "                },\n",
    "                'std': {\n",
    "                    'B01': 554.81258967,\n",
    "                    'B02': 572.41639287,\n",
    "                    'B03': 582.87945694,\n",
    "                    'B04': 675.88746967,\n",
    "                    'B05': 729.89827633,\n",
    "                    'B06': 1096.01480586,\n",
    "                    'B07': 1273.45393088,\n",
    "                    'B08': 1365.45589904,\n",
    "                    'B8A': 1356.13789355,\n",
    "                    'B09': 1302.3292881,\n",
    "                    'B11': 1079.19066363,\n",
    "                    'B12': 818.86747235\n",
    "                }\n",
    "            },\n",
    "            'S1': {\n",
    "                'mean': {\n",
    "                    'VV': -12.619993741972035,\n",
    "                    'VH': -19.29044597721542,\n",
    "                    'VV/VH': 0.6525036195871579,\n",
    "                },\n",
    "                'std': {\n",
    "                    'VV': 5.115911777546365,\n",
    "                    'VH': 5.464428464912864,\n",
    "                    'VV/VH': 30.75264076801808,\n",
    "                },\n",
    "                'min': {\n",
    "                    'VV': -74.33214569091797,\n",
    "                    'VH': -75.11137390136719,\n",
    "                    'R': 3.21E-2\n",
    "                },\n",
    "                'max': {\n",
    "                    'VV': 34.60696029663086,\n",
    "                    'VH': 33.59768295288086,\n",
    "                    'R': 1.08\n",
    "                }\n",
    "            }\n",
    "        }\n"
   ]
  },
  {
   "cell_type": "code",
   "execution_count": null,
   "metadata": {},
   "outputs": [],
   "source": [
    "#export\n",
    "bands=['B02','B03', 'B04', 'B05','B06', 'B07', 'B11', 'B08','B8A', 'B12']"
   ]
  },
  {
   "cell_type": "code",
   "execution_count": null,
   "metadata": {},
   "outputs": [],
   "source": [
    "#export\n",
    "means=[BAND_STATS['S2']['mean'][band]/10000 for band in bands]\n",
    "stds=[BAND_STATS['S2']['std'][band]/10000 for band in bands]"
   ]
  },
  {
   "cell_type": "code",
   "execution_count": null,
   "metadata": {},
   "outputs": [],
   "source": [
    "#export \n",
    "# Now we will create a pipe of transformations\n",
    "from albumentations.pytorch import ToTensorV2\n",
    "aug_pipe = A.Compose([A.ShiftScaleRotate(p=.5),\n",
    "                      A.HorizontalFlip(),\n",
    "                      A.Normalize(mean=means,std=stds,max_pixel_value=1.0),\n",
    "                         ToTensorV2()]                    \n",
    "                    )\n",
    "val_pipe = A.Compose([\n",
    "    A.Normalize(mean=means,std=stds,max_pixel_value=1.0),\n",
    "                         ToTensorV2()]                    \n",
    "                    )\n",
    "\n",
    "class TrainTransform(ItemTransform):\n",
    "    split_idx = 0\n",
    "    def __init__(self, aug,split=0): \n",
    "        self.aug = aug\n",
    "#         self.split_idx = split\n",
    "    def encodes(self, x):\n",
    "        aug = self.aug(image=x[0].numpy())\n",
    "#         print(torch.cat((aug['image0'],aug['image1']),axis=0).shape)\n",
    "        return aug['image'], x[1]\n",
    "class ValTransform(ItemTransform):\n",
    "    split_idx = 1\n",
    "    def __init__(self, aug,split=0): \n",
    "        self.aug = aug\n",
    "#         self.split_idx = split\n",
    "    def encodes(self, x):\n",
    "        aug = self.aug(image=x[0].numpy())\n",
    "#         print(torch.cat((aug['image0'],aug['image1']),axis=0).shape)\n",
    "        return aug['image'], x[1]\n",
    "\n",
    "# Create our class with this aug_pipe\n",
    "aug = TrainTransform(aug_pipe)\n",
    "aug2=ValTransform(val_pipe)"
   ]
  },
  {
   "cell_type": "code",
   "execution_count": null,
   "metadata": {},
   "outputs": [],
   "source": [
    "db = DataBlock(blocks=(TransformBlock(type_tfms=partial(MSTensorImage.create)), MultiCategoryBlock),\n",
    "                   splitter=ColSplitter('Isval'),\n",
    "                   get_x=ColReader('fname'),\n",
    "                   get_y=ColReader('label', label_delim=' '),\n",
    "                   item_tfms=[aug,aug2]\n",
    "              )"
   ]
  },
  {
   "cell_type": "code",
   "execution_count": null,
   "metadata": {},
   "outputs": [],
   "source": [
    "dls = db.dataloaders(source=df, bs=2, num_workers=0)"
   ]
  },
  {
   "cell_type": "code",
   "execution_count": null,
   "metadata": {},
   "outputs": [],
   "source": [
    "aa,bb=first(dls.train)"
   ]
  },
  {
   "cell_type": "code",
   "execution_count": null,
   "metadata": {},
   "outputs": [
    {
     "data": {
      "text/plain": [
       "tensor(-1.6713, device='cuda:0')"
      ]
     },
     "execution_count": null,
     "metadata": {},
     "output_type": "execute_result"
    }
   ],
   "source": [
    "aa.min()"
   ]
  },
  {
   "cell_type": "code",
   "execution_count": null,
   "metadata": {},
   "outputs": [],
   "source": [
    "from nbdev.export import notebook2script\n"
   ]
  },
  {
   "cell_type": "code",
   "execution_count": null,
   "metadata": {},
   "outputs": [
    {
     "name": "stdout",
     "output_type": "stream",
     "text": [
      "Converted 00_core.ipynb.\n"
     ]
    }
   ],
   "source": [
    "notebook2script(fname='./00_core.ipynb')"
   ]
  },
  {
   "cell_type": "code",
   "execution_count": null,
   "metadata": {},
   "outputs": [],
   "source": []
  }
 ],
 "metadata": {
  "kernelspec": {
   "display_name": "Python 3",
   "language": "python",
   "name": "python3"
  }
 },
 "nbformat": 4,
 "nbformat_minor": 4
}
