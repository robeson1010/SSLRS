{
 "cells": [
  {
   "cell_type": "code",
   "execution_count": null,
   "metadata": {},
   "outputs": [],
   "source": [
    "%reload_ext autoreload\n",
    "%autoreload 2\n",
    "%matplotlib inline"
   ]
  },
  {
   "cell_type": "code",
   "execution_count": null,
   "metadata": {},
   "outputs": [],
   "source": [
    "from SSLRS.segdata import *\n",
    "import pandas as pd\n",
    "import torch"
   ]
  },
  {
   "cell_type": "code",
   "execution_count": null,
   "metadata": {},
   "outputs": [],
   "source": [
    "from fastai.vision.all import *\n",
    "from mmcv.utils import Config, DictAction, get_git_hash\n",
    "from mmseg.models import build_segmentor\n",
    "from semantic_segmentation.backbone import xcit\n",
    "import timm\n",
    "from SSLRS.xcit import XCiT\n",
    "from mmseg.models.decode_heads import FPNHead\n",
    "from mmseg.models.necks import FPN\n",
    "from SSLRS.segdata import *"
   ]
  },
  {
   "cell_type": "code",
   "execution_count": null,
   "metadata": {},
   "outputs": [],
   "source": [
    "class FCNNET(nn.Module):\n",
    "    def __init__(self):\n",
    "        super().__init__()\n",
    "        self.backbone=XCiT(num_classes=0, in_chans=10,patch_size=8, embed_dim=384, depth=12, num_heads=8, eta=1.0, tokens_norm=True)\n",
    "        self.neck=FPN(in_channels=[384, 384, 384, 384],out_channels=384,num_outs=4)\n",
    "        self.decode_head =FPNHead(feature_strides=[8, 8, 8, 8],in_channels=[384, 384, 384, 384],channels=128,num_classes=11,in_index=[0, 1, 2, 3],dropout_ratio=0.1,align_corners=False)\n",
    "        self.init_weights()\n",
    "    def forward(self, x):\n",
    "        x =self.decode_head(self.neck(self.backbone(x)))\n",
    "        return x\n",
    "    def init_weights(self):\n",
    "        state_dict=torch.load('./SSLmodels/oldtrain/checkpoint.pth')['teacher']\n",
    "        state_dict = {k.replace(\"module.\", \"\"): v for k, v in state_dict.items()}\n",
    "        state_dict = {k.replace(\"backbone.\", \"\"): v for k, v in state_dict.items()}\n",
    "        self.backbone.load_state_dict(state_dict,strict=False)\n",
    "        print('load')\n",
    "def mIOU( pred,label, num_classes=12):\n",
    "    pred =F.upsample_nearest(pred,scale_factor=4)  \n",
    "    pred = F.softmax(pred, dim=1)              \n",
    "    pred = torch.argmax(pred, dim=1).squeeze(1)\n",
    "    label=MSTensorImage(label)\n",
    "    iou_list = list()\n",
    "    present_iou_list = list()\n",
    "    pred = pred.view(-1)\n",
    "    label = label.view(-1)\n",
    "    # Note: Following for loop goes from 0 to (num_classes-1)\n",
    "    # and ignore_index is num_classes, thus ignore_index is\n",
    "    # not considered in computation of IoU.\n",
    "    for sem_class in range(num_classes):\n",
    "        if sem_class!=0:\n",
    "            pred_inds = (pred == sem_class)\n",
    "            target_inds = (label == sem_class)\n",
    "            if target_inds.long().sum().item() == 0:\n",
    "                iou_now = float('nan')\n",
    "            else: \n",
    "                intersection_now = (pred_inds[target_inds]).long().sum().item()\n",
    "                union_now = pred_inds.long().sum().item() + target_inds.long().sum().item() - intersection_now\n",
    "                iou_now = float(intersection_now) / float(union_now)\n",
    "                present_iou_list.append(iou_now)\n",
    "            iou_list.append(iou_now)\n",
    "    return np.mean(present_iou_list)\n",
    "\n",
    "class OhemCrossEntropy(nn.Module): \n",
    "    def __init__(self, ignore_label=-1, thres=0.7, \n",
    "        min_kept=100000, weight=None): \n",
    "        super(OhemCrossEntropy, self).__init__() \n",
    "        self.thresh = thres\n",
    "        self.min_kept = max(1, min_kept)\n",
    "        self.ignore_label = ignore_label \n",
    "        self.weight=weight\n",
    "        self.criterion = nn.CrossEntropyLoss(weight=weight, \n",
    "                                             ignore_index=ignore_label, \n",
    "                                             reduction='none') \n",
    "    \n",
    "    def forward(self, score, target, **kwargs):\n",
    "        target=MSTensorImage(target.long())\n",
    "        score =F.upsample_nearest(score,scale_factor=4)\n",
    "        pred = F.softmax(score, dim=1)\n",
    "        pixel_losses = self.criterion(score, target).contiguous().view(-1)\n",
    "        mask = target.contiguous().view(-1) != self.ignore_label         \n",
    "        \n",
    "        tmp_target = target.clone() \n",
    "        tmp_target[tmp_target == self.ignore_label] = 0 \n",
    "        pred = pred.gather(1, tmp_target.unsqueeze(1)) \n",
    "        pred, ind = pred.contiguous().view(-1,)[mask].contiguous().sort()\n",
    "        min_value = pred[min(self.min_kept, pred.numel() - 1)] \n",
    "        threshold = max(min_value, self.thresh) \n",
    "        \n",
    "        pixel_losses = pixel_losses[mask][ind]\n",
    "        pixel_losses = pixel_losses[pred < threshold] \n",
    "#         iouloss=Lov.lovasz_softmax(score,target,class_weight=self.weight)\n",
    "        return pixel_losses.mean()\n",
    "      "
   ]
  },
  {
   "cell_type": "code",
   "execution_count": null,
   "metadata": {},
   "outputs": [
    {
     "name": "stdout",
     "output_type": "stream",
     "text": [
      "load\n"
     ]
    }
   ],
   "source": [
    "model=FCNNET()"
   ]
  },
  {
   "cell_type": "code",
   "execution_count": null,
   "metadata": {},
   "outputs": [],
   "source": [
    "df=pd.read_csv('train.csv')"
   ]
  },
  {
   "cell_type": "code",
   "execution_count": null,
   "metadata": {},
   "outputs": [],
   "source": [
    "db = DataBlock(blocks=(TransformBlock(type_tfms=partial(MSTensorImage.create)),\n",
    "                       TransformBlock(type_tfms=partial(MSMask.create)),\n",
    "                      ),\n",
    "               get_x=ColReader('names'),\n",
    "                get_y=ColReader('masks'),\n",
    "               splitter=RandomSplitter(seed=10),\n",
    "               item_tfms=[aug,aug2],            \n",
    "              )"
   ]
  },
  {
   "cell_type": "code",
   "execution_count": null,
   "metadata": {},
   "outputs": [],
   "source": [
    "dls = db.dataloaders(source=df,bs=6,num_workers=8,pin_memory=True)"
   ]
  },
  {
   "cell_type": "code",
   "execution_count": null,
   "metadata": {},
   "outputs": [],
   "source": [
    "loss=OhemCrossEntropy()\n",
    "learn = Learner(dls,model,metrics=mIOU,loss_func=loss).to_fp16()\n"
   ]
  },
  {
   "cell_type": "code",
   "execution_count": null,
   "metadata": {},
   "outputs": [
    {
     "data": {
      "text/html": [
       "\n",
       "    <div>\n",
       "        <style>\n",
       "            /* Turns off some styling */\n",
       "            progress {\n",
       "                /* gets rid of default border in Firefox and Opera. */\n",
       "                border: none;\n",
       "                /* Needs to be in here for Safari polyfill so background images work as expected. */\n",
       "                background-size: auto;\n",
       "            }\n",
       "            .progress-bar-interrupted, .progress-bar-interrupted::-webkit-progress-bar {\n",
       "                background: #F44336;\n",
       "            }\n",
       "        </style>\n",
       "      <progress value='0' class='' max='200' style='width:300px; height:20px; vertical-align: middle;'></progress>\n",
       "      0.00% [0/200 00:00<00:00]\n",
       "    </div>\n",
       "    \n",
       "<table border=\"1\" class=\"dataframe\">\n",
       "  <thead>\n",
       "    <tr style=\"text-align: left;\">\n",
       "      <th>epoch</th>\n",
       "      <th>train_loss</th>\n",
       "      <th>valid_loss</th>\n",
       "      <th>mIOU</th>\n",
       "      <th>time</th>\n",
       "    </tr>\n",
       "  </thead>\n",
       "  <tbody>\n",
       "  </tbody>\n",
       "</table><p>\n",
       "\n",
       "    <div>\n",
       "        <style>\n",
       "            /* Turns off some styling */\n",
       "            progress {\n",
       "                /* gets rid of default border in Firefox and Opera. */\n",
       "                border: none;\n",
       "                /* Needs to be in here for Safari polyfill so background images work as expected. */\n",
       "                background-size: auto;\n",
       "            }\n",
       "            .progress-bar-interrupted, .progress-bar-interrupted::-webkit-progress-bar {\n",
       "                background: #F44336;\n",
       "            }\n",
       "        </style>\n",
       "      <progress value='114' class='' max='482' style='width:300px; height:20px; vertical-align: middle;'></progress>\n",
       "      23.65% [114/482 01:12<03:52 15.5728]\n",
       "    </div>\n",
       "    "
      ],
      "text/plain": [
       "<IPython.core.display.HTML object>"
      ]
     },
     "metadata": {},
     "output_type": "display_data"
    }
   ],
   "source": [
    "learn.fit_one_cycle(200, 1e-4,cbs=[CSVLogger(fname='SegSSLoldweight.csv',append=True),SaveModelCallback(monitor='mIOU',fname='SegSSLoldweight')])"
   ]
  },
  {
   "cell_type": "code",
   "execution_count": null,
   "metadata": {},
   "outputs": [],
   "source": [
    "learn.fit_one_cycle(200, 1e-4,cbs=[CSVLogger(fname='SegnoSSL.csv',append=True),SaveModelCallback(monitor='mIOU',fname='SegnoSSL')])"
   ]
  },
  {
   "cell_type": "code",
   "execution_count": null,
   "metadata": {},
   "outputs": [],
   "source": []
  }
 ],
 "metadata": {
  "kernelspec": {
   "display_name": "Python [conda env:py3] *",
   "language": "python",
   "name": "conda-env-py3-py"
  }
 },
 "nbformat": 4,
 "nbformat_minor": 4
}
