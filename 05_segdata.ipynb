{
 "cells": [
  {
   "cell_type": "code",
   "execution_count": null,
   "metadata": {},
   "outputs": [],
   "source": [
    "# default_exp segdata"
   ]
  },
  {
   "cell_type": "markdown",
   "metadata": {},
   "source": [
    "# module name here\n",
    "\n",
    "> API details."
   ]
  },
  {
   "cell_type": "code",
   "execution_count": null,
   "metadata": {},
   "outputs": [],
   "source": [
    "#hide\n",
    "from nbdev.showdoc import *\n",
    "from nbdev.export import notebook2script"
   ]
  },
  {
   "cell_type": "code",
   "execution_count": null,
   "metadata": {},
   "outputs": [],
   "source": [
    "#export\n",
    "from fastai.vision.all import *\n",
    "import skimage.io as skio\n",
    "import warnings\n",
    "warnings.filterwarnings(\"ignore\")\n",
    "import SSLRS.utils as utils\n",
    "import rasterio\n",
    "import slidingwindow as sw\n",
    "from rasterio.windows import Window"
   ]
  },
  {
   "cell_type": "code",
   "execution_count": null,
   "metadata": {},
   "outputs": [],
   "source": [
    "#export\n",
    "src=rasterio.open('/home/staff/xin/Storage/SSLRS/data/32TQR/32tqr.vrt')\n",
    "result=np.zeros((1,src.shape[0],src.shape[1]),dtype='uint8')\n",
    "windows = sw.generate(result, sw.DimOrder.ChannelHeightWidth,512,0.6)"
   ]
  },
  {
   "cell_type": "code",
   "execution_count": null,
   "metadata": {},
   "outputs": [
    {
     "data": {
      "text/html": [
       "<div>\n",
       "<style scoped>\n",
       "    .dataframe tbody tr th:only-of-type {\n",
       "        vertical-align: middle;\n",
       "    }\n",
       "\n",
       "    .dataframe tbody tr th {\n",
       "        vertical-align: top;\n",
       "    }\n",
       "\n",
       "    .dataframe thead th {\n",
       "        text-align: right;\n",
       "    }\n",
       "</style>\n",
       "<table border=\"1\" class=\"dataframe\">\n",
       "  <thead>\n",
       "    <tr style=\"text-align: right;\">\n",
       "      <th></th>\n",
       "      <th>names</th>\n",
       "      <th>masks</th>\n",
       "    </tr>\n",
       "  </thead>\n",
       "  <tbody>\n",
       "    <tr>\n",
       "      <th>0</th>\n",
       "      <td>(205,6560,512,512)</td>\n",
       "      <td>(205,6560,512,512)</td>\n",
       "    </tr>\n",
       "    <tr>\n",
       "      <th>1</th>\n",
       "      <td>(205,6765,512,512)</td>\n",
       "      <td>(205,6765,512,512)</td>\n",
       "    </tr>\n",
       "    <tr>\n",
       "      <th>2</th>\n",
       "      <td>(205,6970,512,512)</td>\n",
       "      <td>(205,6970,512,512)</td>\n",
       "    </tr>\n",
       "    <tr>\n",
       "      <th>3</th>\n",
       "      <td>(205,7175,512,512)</td>\n",
       "      <td>(205,7175,512,512)</td>\n",
       "    </tr>\n",
       "    <tr>\n",
       "      <th>4</th>\n",
       "      <td>(205,7380,512,512)</td>\n",
       "      <td>(205,7380,512,512)</td>\n",
       "    </tr>\n",
       "  </tbody>\n",
       "</table>\n",
       "</div>"
      ],
      "text/plain": [
       "                names               masks\n",
       "0  (205,6560,512,512)  (205,6560,512,512)\n",
       "1  (205,6765,512,512)  (205,6765,512,512)\n",
       "2  (205,6970,512,512)  (205,6970,512,512)\n",
       "3  (205,7175,512,512)  (205,7175,512,512)\n",
       "4  (205,7380,512,512)  (205,7380,512,512)"
      ]
     },
     "execution_count": null,
     "metadata": {},
     "output_type": "execute_result"
    }
   ],
   "source": [
    "names=[]\n",
    "masks=[]\n",
    "for window in windows:\n",
    "        temp=src.read(11,window=Window(window.x,window.y,window.w,window.h))\n",
    "        if np.count_nonzero(np.isnan(temp))==0:\n",
    "            names.append(str(window))\n",
    "            masks.append(str(window))\n",
    "df=pd.DataFrame({'names':names,'masks':masks});\n",
    "df.head()"
   ]
  },
  {
   "cell_type": "code",
   "execution_count": null,
   "metadata": {},
   "outputs": [
    {
     "data": {
      "text/plain": [
       "3618"
      ]
     },
     "execution_count": null,
     "metadata": {},
     "output_type": "execute_result"
    }
   ],
   "source": [
    "len(df)"
   ]
  },
  {
   "cell_type": "code",
   "execution_count": null,
   "metadata": {},
   "outputs": [
    {
     "data": {
      "text/plain": [
       "(10, 200, 200)"
      ]
     },
     "execution_count": null,
     "metadata": {},
     "output_type": "execute_result"
    }
   ],
   "source": []
  },
  {
   "cell_type": "code",
   "execution_count": null,
   "metadata": {},
   "outputs": [
    {
     "name": "stdout",
     "output_type": "stream",
     "text": [
      "1\n",
      "2\n",
      "3\n",
      "4\n",
      "5\n",
      "6\n",
      "7\n",
      "8\n",
      "9\n",
      "10\n",
      "11\n"
     ]
    }
   ],
   "source": []
  },
  {
   "cell_type": "code",
   "execution_count": null,
   "metadata": {},
   "outputs": [
    {
     "ename": "NameError",
     "evalue": "name 'TensorBase' is not defined",
     "output_type": "error",
     "traceback": [
      "\u001b[0;31m---------------------------------------------------------------------------\u001b[0m",
      "\u001b[0;31mNameError\u001b[0m                                 Traceback (most recent call last)",
      "\u001b[0;32m<ipython-input-11-c296856e5e5a>\u001b[0m in \u001b[0;36m<module>\u001b[0;34m\u001b[0m\n\u001b[1;32m      1\u001b[0m \u001b[0;31m#export\u001b[0m\u001b[0;34m\u001b[0m\u001b[0;34m\u001b[0m\u001b[0;34m\u001b[0m\u001b[0m\n\u001b[1;32m      2\u001b[0m \u001b[0;34m\u001b[0m\u001b[0m\n\u001b[0;32m----> 3\u001b[0;31m \u001b[0;32mclass\u001b[0m \u001b[0mMSTensorImage\u001b[0m\u001b[0;34m(\u001b[0m\u001b[0mTensorBase\u001b[0m\u001b[0;34m)\u001b[0m\u001b[0;34m:\u001b[0m\u001b[0;34m\u001b[0m\u001b[0;34m\u001b[0m\u001b[0m\n\u001b[0m\u001b[1;32m      4\u001b[0m     \u001b[0;34m@\u001b[0m\u001b[0mclassmethod\u001b[0m\u001b[0;34m\u001b[0m\u001b[0;34m\u001b[0m\u001b[0m\n\u001b[1;32m      5\u001b[0m     \u001b[0;32mdef\u001b[0m \u001b[0mcreate\u001b[0m\u001b[0;34m(\u001b[0m\u001b[0mcls\u001b[0m\u001b[0;34m,\u001b[0m \u001b[0mdata\u001b[0m\u001b[0;34m:\u001b[0m\u001b[0;34m(\u001b[0m\u001b[0mPath\u001b[0m\u001b[0;34m,\u001b[0m\u001b[0mstr\u001b[0m\u001b[0;34m,\u001b[0m\u001b[0mndarray\u001b[0m\u001b[0;34m)\u001b[0m\u001b[0;34m,\u001b[0m \u001b[0mchnls\u001b[0m\u001b[0;34m=\u001b[0m\u001b[0;32mNone\u001b[0m\u001b[0;34m)\u001b[0m\u001b[0;34m:\u001b[0m\u001b[0;34m\u001b[0m\u001b[0;34m\u001b[0m\u001b[0m\n",
      "\u001b[0;31mNameError\u001b[0m: name 'TensorBase' is not defined"
     ]
    }
   ],
   "source": [
    "#export\n",
    "\n",
    "class MSTensorImage(TensorBase):   \n",
    "    @classmethod\n",
    "    def create(cls, data:(Path,str,ndarray), chnls=None):\n",
    "        \n",
    "        if isinstance(data, Path) or isinstance(data, str):\n",
    "            ids=np.fromstring(data[1:-1],dtype=int,sep=',')\n",
    "            with rasterio.open('/home/staff/xin/Storage/SSLRS/data/32TQR/32tqr.vrt') as src:\n",
    "                im=src.read([i+1 for i in range(10)],window=Window(ids[0],ids[1],512,512))\n",
    "            im=im.transpose(1,2,0).astype('float32')/10000\n",
    "\n",
    "        elif isinstance(data, ndarray): \n",
    "            im = torch.from_numpy(data)\n",
    "        else:\n",
    "            im = data\n",
    "        \n",
    "        return im\n",
    "class MSMask(TensorBase):\n",
    "    @classmethod\n",
    "    def create(cls, data:(Path,str,ndarray)):\n",
    "        \n",
    "        if isinstance(data, Path) or isinstance(data, str):\n",
    "            ids=np.fromstring(data[1:-1],dtype=int,sep=',')\n",
    "            with rasterio.open('/home/staff/xin/Storage/SSLRS/data/32TQR/32tqr.vrt') as src:\n",
    "                im=src.read(11,window=Window(ids[0],ids[1],512,512))\n",
    "                for i, blk in enumerate([10,20,30,40,50,60,70,80,90,95,100]):\n",
    "                    im[im==blk]=i\n",
    "        elif isinstance(data, ndarray): \n",
    "            im = torch.from_numpy(data)\n",
    "        else:\n",
    "            im = data\n",
    "        \n",
    "        return im"
   ]
  },
  {
   "cell_type": "code",
   "execution_count": null,
   "metadata": {},
   "outputs": [],
   "source": [
    "db = DataBlock(blocks=(TransformBlock(type_tfms=partial(MSTensorImage.create)),\n",
    "                       TransformBlock(type_tfms=partial(MSMask.create)),\n",
    "                      ),\n",
    "                get_x=ColReader('names'),\n",
    "                get_y=ColReader('masks'),\n",
    "               splitter=RandomSplitter(valid_pct=0.2)\n",
    "              )\n",
    "\n",
    "# db.summary(source=df)"
   ]
  },
  {
   "cell_type": "code",
   "execution_count": null,
   "metadata": {},
   "outputs": [],
   "source": [
    "ds = db.datasets(source=df)"
   ]
  },
  {
   "cell_type": "code",
   "execution_count": null,
   "metadata": {},
   "outputs": [],
   "source": [
    "#export\n",
    "BAND_STATS = {\n",
    "            'S2':{\n",
    "                'mean': {\n",
    "                    'B01': 340.76769064,\n",
    "                    'B02': 429.9430203,\n",
    "                    'B03': 614.21682446,\n",
    "                    'B04': 590.23569706,\n",
    "                    'B05': 950.68368468,\n",
    "                    'B06': 1792.46290469,\n",
    "                    'B07': 2075.46795189,\n",
    "                    'B08': 2218.94553375,\n",
    "                    'B8A': 2266.46036911,\n",
    "                    'B09': 2246.0605464,\n",
    "                    'B11': 1594.42694882,\n",
    "                    'B12': 1009.32729131\n",
    "                },\n",
    "                'std': {\n",
    "                    'B01': 554.81258967,\n",
    "                    'B02': 572.41639287,\n",
    "                    'B03': 582.87945694,\n",
    "                    'B04': 675.88746967,\n",
    "                    'B05': 729.89827633,\n",
    "                    'B06': 1096.01480586,\n",
    "                    'B07': 1273.45393088,\n",
    "                    'B08': 1365.45589904,\n",
    "                    'B8A': 1356.13789355,\n",
    "                    'B09': 1302.3292881,\n",
    "                    'B11': 1079.19066363,\n",
    "                    'B12': 818.86747235\n",
    "                }\n",
    "            },\n",
    "            'S1': {\n",
    "                'mean': {\n",
    "                    'VV': -12.619993741972035,\n",
    "                    'VH': -19.29044597721542,\n",
    "                    'VV/VH': 0.6525036195871579,\n",
    "                },\n",
    "                'std': {\n",
    "                    'VV': 5.115911777546365,\n",
    "                    'VH': 5.464428464912864,\n",
    "                    'VV/VH': 30.75264076801808,\n",
    "                },\n",
    "                'min': {\n",
    "                    'VV': -74.33214569091797,\n",
    "                    'VH': -75.11137390136719,\n",
    "                    'R': 3.21E-2\n",
    "                },\n",
    "                'max': {\n",
    "                    'VV': 34.60696029663086,\n",
    "                    'VH': 33.59768295288086,\n",
    "                    'R': 1.08\n",
    "                }\n",
    "            }\n",
    "        }\n"
   ]
  },
  {
   "cell_type": "code",
   "execution_count": null,
   "metadata": {},
   "outputs": [],
   "source": [
    "#export\n",
    "bands=['B02','B03', 'B04', 'B05','B06', 'B07', 'B11', 'B08','B8A', 'B12']\n",
    "means=[BAND_STATS['S2']['mean'][band]/10000 for band in bands]\n",
    "stds=[BAND_STATS['S2']['std'][band]/10000 for band in bands]"
   ]
  },
  {
   "cell_type": "code",
   "execution_count": null,
   "metadata": {},
   "outputs": [],
   "source": [
    "#export\n",
    "import albumentations as A\n",
    "from albumentations.pytorch import ToTensorV2\n",
    "from torchvision import transforms\n",
    "from albumentations.core.transforms_interface import ImageOnlyTransform\n",
    "import random\n",
    "\n",
    "\n",
    "aug_pipe = A.Compose([A.ShiftScaleRotate(p=.5),\n",
    "                      A.HorizontalFlip(),\n",
    "                      A.Normalize(mean=means,std=stds,max_pixel_value=1.0),\n",
    "                         ToTensorV2()]                    \n",
    "                    )\n",
    "val_pipe = A.Compose([\n",
    "    A.Normalize(mean=means,std=stds,max_pixel_value=1.0),\n",
    "                         ToTensorV2()]                    \n",
    "                    )\n",
    "\n",
    "class TrainTransform(ItemTransform):\n",
    "    split_idx = 0\n",
    "    def __init__(self, aug,split=0): \n",
    "        self.aug = aug\n",
    "#         self.split_idx = split\n",
    "    def encodes(self, x):\n",
    "        aug = self.aug(image=x[0],mask=x[1])\n",
    "#         print(torch.cat((aug['image0'],aug['image1']),axis=0).shape)\n",
    "        return MSTensorImage(aug['image']), MSMask(aug['mask'])\n",
    "class ValTransform(ItemTransform):\n",
    "    split_idx = 1\n",
    "    def __init__(self, aug,split=0): \n",
    "        self.aug = aug\n",
    "#         self.split_idx = split\n",
    "    def encodes(self, x):\n",
    "        aug = self.aug(image=x[0],mask=x[1])\n",
    "#         print(torch.cat((aug['image0'],aug['image1']),axis=0).shape)\n",
    "        return MSTensorImage(aug['image']), MSMask(aug['mask'])\n",
    "\n",
    "# Create our class with this aug_pipe\n",
    "aug = TrainTransform(aug_pipe)\n",
    "aug2=ValTransform(val_pipe)"
   ]
  },
  {
   "cell_type": "code",
   "execution_count": null,
   "metadata": {},
   "outputs": [],
   "source": [
    "db = DataBlock(blocks=(TransformBlock(type_tfms=partial(MSTensorImage.create)),\n",
    "                       TransformBlock(type_tfms=partial(MSMask.create)),\n",
    "                      ),\n",
    "               get_x=ColReader('names'),\n",
    "                get_y=ColReader('masks'),\n",
    "               item_tfms=[aug,aug2]\n",
    "#                batch_tfms=transforms.Normalize(means,stds)\n",
    "              )"
   ]
  },
  {
   "cell_type": "code",
   "execution_count": null,
   "metadata": {},
   "outputs": [],
   "source": [
    "dls = db.dataloaders(source=df, bs=2,num_workers=8,pin_memory=True)"
   ]
  },
  {
   "cell_type": "code",
   "execution_count": null,
   "metadata": {},
   "outputs": [],
   "source": [
    "aa,bb=first(dls.train)"
   ]
  },
  {
   "cell_type": "code",
   "execution_count": null,
   "metadata": {},
   "outputs": [
    {
     "name": "stdout",
     "output_type": "stream",
     "text": [
      "Converted 05_segdata.ipynb.\n"
     ]
    }
   ],
   "source": [
    "notebook2script(fname='./05_segdata.ipynb')"
   ]
  },
  {
   "cell_type": "code",
   "execution_count": null,
   "metadata": {},
   "outputs": [],
   "source": []
  }
 ],
 "metadata": {
  "kernelspec": {
   "display_name": "Python 3",
   "language": "python",
   "name": "python3"
  }
 },
 "nbformat": 4,
 "nbformat_minor": 4
}
